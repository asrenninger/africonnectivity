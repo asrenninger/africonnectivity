{
 "cells": [
  {
   "cell_type": "code",
   "execution_count": 1,
   "metadata": {},
   "outputs": [],
   "source": [
    "import networkx as nx\n",
    "import pandas as pd\n",
    "import geopandas as gpd\n",
    "import numpy as np\n",
    "import contextily as cx\n",
    "\n",
    "import matplotlib.pyplot as plt"
   ]
  },
  {
   "cell_type": "code",
   "execution_count": 2,
   "metadata": {},
   "outputs": [],
   "source": [
    "edges = pd.read_csv(\"https://raw.githubusercontent.com/rafaelprietocuriel/AfricanUrbanNetwork/main/AfricaNetworkEdges.csv\")\n",
    "nodes = pd.read_csv(\"https://raw.githubusercontent.com/rafaelprietocuriel/AfricanUrbanNetwork/main/AfricaNetworkNodes.csv\", encoding='unicode_escape', engine ='python')\n",
    "risks = pd.read_csv(\"../data/EDIndex20221202.csv\")"
   ]
  },
  {
   "cell_type": "code",
   "execution_count": 3,
   "metadata": {},
   "outputs": [
    {
     "data": {
      "text/html": [
       "<div>\n",
       "<style scoped>\n",
       "    .dataframe tbody tr th:only-of-type {\n",
       "        vertical-align: middle;\n",
       "    }\n",
       "\n",
       "    .dataframe tbody tr th {\n",
       "        vertical-align: top;\n",
       "    }\n",
       "\n",
       "    .dataframe thead th {\n",
       "        text-align: right;\n",
       "    }\n",
       "</style>\n",
       "<table border=\"1\" class=\"dataframe\">\n",
       "  <thead>\n",
       "    <tr style=\"text-align: right;\">\n",
       "      <th></th>\n",
       "      <th>from</th>\n",
       "      <th>to</th>\n",
       "      <th>l</th>\n",
       "      <th>h</th>\n",
       "      <th>time</th>\n",
       "      <th>timeU</th>\n",
       "      <th>timeUCB</th>\n",
       "      <th>border</th>\n",
       "      <th>index</th>\n",
       "    </tr>\n",
       "  </thead>\n",
       "  <tbody>\n",
       "    <tr>\n",
       "      <th>0</th>\n",
       "      <td>8211</td>\n",
       "      <td>2333</td>\n",
       "      <td>4.294382</td>\n",
       "      <td>motorway</td>\n",
       "      <td>2.576629</td>\n",
       "      <td>80.447015</td>\n",
       "      <td>80.447015</td>\n",
       "      <td>0</td>\n",
       "      <td>40.518729</td>\n",
       "    </tr>\n",
       "    <tr>\n",
       "      <th>1</th>\n",
       "      <td>8211</td>\n",
       "      <td>1000559</td>\n",
       "      <td>1.771612</td>\n",
       "      <td>motorway</td>\n",
       "      <td>1.062967</td>\n",
       "      <td>15.148263</td>\n",
       "      <td>15.148263</td>\n",
       "      <td>0</td>\n",
       "      <td>34.595838</td>\n",
       "    </tr>\n",
       "    <tr>\n",
       "      <th>2</th>\n",
       "      <td>8211</td>\n",
       "      <td>1000567</td>\n",
       "      <td>5.414267</td>\n",
       "      <td>motorway</td>\n",
       "      <td>3.248560</td>\n",
       "      <td>17.333856</td>\n",
       "      <td>17.333856</td>\n",
       "      <td>0</td>\n",
       "      <td>29.757905</td>\n",
       "    </tr>\n",
       "    <tr>\n",
       "      <th>3</th>\n",
       "      <td>8211</td>\n",
       "      <td>5425</td>\n",
       "      <td>0.798800</td>\n",
       "      <td>primary</td>\n",
       "      <td>1.198201</td>\n",
       "      <td>21.555303</td>\n",
       "      <td>21.555303</td>\n",
       "      <td>0</td>\n",
       "      <td>32.325426</td>\n",
       "    </tr>\n",
       "    <tr>\n",
       "      <th>4</th>\n",
       "      <td>8211</td>\n",
       "      <td>1054396</td>\n",
       "      <td>50.646909</td>\n",
       "      <td>primary</td>\n",
       "      <td>75.970364</td>\n",
       "      <td>90.055660</td>\n",
       "      <td>90.055660</td>\n",
       "      <td>0</td>\n",
       "      <td>21.123829</td>\n",
       "    </tr>\n",
       "  </tbody>\n",
       "</table>\n",
       "</div>"
      ],
      "text/plain": [
       "   from       to          l         h       time      timeU    timeUCB  \\\n",
       "0  8211     2333   4.294382  motorway   2.576629  80.447015  80.447015   \n",
       "1  8211  1000559   1.771612  motorway   1.062967  15.148263  15.148263   \n",
       "2  8211  1000567   5.414267  motorway   3.248560  17.333856  17.333856   \n",
       "3  8211     5425   0.798800   primary   1.198201  21.555303  21.555303   \n",
       "4  8211  1054396  50.646909   primary  75.970364  90.055660  90.055660   \n",
       "\n",
       "   border      index  \n",
       "0       0  40.518729  \n",
       "1       0  34.595838  \n",
       "2       0  29.757905  \n",
       "3       0  32.325426  \n",
       "4       0  21.123829  "
      ]
     },
     "execution_count": 3,
     "metadata": {},
     "output_type": "execute_result"
    }
   ],
   "source": [
    "edges = edges.merge(risks[['from', 'to', 'index']], left_on=['from', 'to'], right_on=['from', 'to'], how='left')\n",
    "edges.head()"
   ]
  },
  {
   "cell_type": "code",
   "execution_count": 4,
   "metadata": {},
   "outputs": [],
   "source": [
    "G = nx.from_pandas_edgelist(edges, source='from', target='to', edge_attr = ['l', 'time', 'timeU', 'timeUCB', 'index'])"
   ]
  },
  {
   "cell_type": "code",
   "execution_count": 5,
   "metadata": {},
   "outputs": [],
   "source": [
    "nx.set_node_attributes(G, nodes.set_index('Agglomeration_ID').to_dict('index'))"
   ]
  },
  {
   "cell_type": "code",
   "execution_count": 12,
   "metadata": {},
   "outputs": [],
   "source": [
    "edges['risk'] = edges['index']"
   ]
  },
  {
   "cell_type": "code",
   "execution_count": 29,
   "metadata": {},
   "outputs": [
    {
     "data": {
      "text/html": [
       "<div>\n",
       "<style scoped>\n",
       "    .dataframe tbody tr th:only-of-type {\n",
       "        vertical-align: middle;\n",
       "    }\n",
       "\n",
       "    .dataframe tbody tr th {\n",
       "        vertical-align: top;\n",
       "    }\n",
       "\n",
       "    .dataframe thead th {\n",
       "        text-align: right;\n",
       "    }\n",
       "</style>\n",
       "<table border=\"1\" class=\"dataframe\">\n",
       "  <thead>\n",
       "    <tr style=\"text-align: right;\">\n",
       "      <th></th>\n",
       "      <th>component</th>\n",
       "      <th>threshold</th>\n",
       "      <th>gcc</th>\n",
       "    </tr>\n",
       "  </thead>\n",
       "  <tbody>\n",
       "    <tr>\n",
       "      <th>8211</th>\n",
       "      <td>0</td>\n",
       "      <td>0</td>\n",
       "      <td>1</td>\n",
       "    </tr>\n",
       "    <tr>\n",
       "      <th>2333</th>\n",
       "      <td>1</td>\n",
       "      <td>0</td>\n",
       "      <td>1</td>\n",
       "    </tr>\n",
       "    <tr>\n",
       "      <th>1000559</th>\n",
       "      <td>2</td>\n",
       "      <td>0</td>\n",
       "      <td>1</td>\n",
       "    </tr>\n",
       "    <tr>\n",
       "      <th>1000567</th>\n",
       "      <td>3</td>\n",
       "      <td>0</td>\n",
       "      <td>1</td>\n",
       "    </tr>\n",
       "    <tr>\n",
       "      <th>5425</th>\n",
       "      <td>4</td>\n",
       "      <td>0</td>\n",
       "      <td>1</td>\n",
       "    </tr>\n",
       "  </tbody>\n",
       "</table>\n",
       "</div>"
      ],
      "text/plain": [
       "         component  threshold  gcc\n",
       "8211             0          0    1\n",
       "2333             1          0    1\n",
       "1000559          2          0    1\n",
       "1000567          3          0    1\n",
       "5425             4          0    1"
      ]
     },
     "execution_count": 29,
     "metadata": {},
     "output_type": "execute_result"
    }
   ],
   "source": [
    "lengths = []\n",
    "components = list()\n",
    "\n",
    "for i in np.arange(0, 100):\n",
    "    G_ = G.copy()\n",
    "    _ = [G_.remove_edge(u, v) for u, v, d in G.edges(data=True) if d['index'] > i]\n",
    "    \n",
    "    labels = pd.DataFrame({u: i for i, n in enumerate(sorted(nx.connected_components(G_), key=len, reverse=True)) for u in n}, index=['component']).T\n",
    "    labels['threshold'] = i\n",
    "    labels['gcc'] = len(max(nx.connected_components(G_), key=len))\n",
    "    \n",
    "    lengths.append(len(max(nx.connected_components(G_), key=len)))\n",
    "    components.append(labels)\n",
    "    \n",
    "components = pd.concat(components)\n",
    "components.head()"
   ]
  },
  {
   "cell_type": "code",
   "execution_count": 30,
   "metadata": {},
   "outputs": [],
   "source": [
    "def clean_components(dataframe, nodes=nodes, edges=edges):\n",
    "    edges_copy = edges.copy()\n",
    "    nodes_copy = nodes.copy()\n",
    "\n",
    "    components_copy = dataframe[dataframe.threshold.isin(np.arange(0, 100))].merge(nodes_copy,\n",
    "                                                                                   left_index=True, right_on='Agglomeration_ID', how='left')\n",
    "\n",
    "\n",
    "    components_copy['aggnm'] = components_copy['agglosName']\n",
    "    components_copy['pop15'] = components_copy['Pop2015']\n",
    "    components_copy['thrno'] = components_copy['threshold']\n",
    "    components_copy['thrid'] = components_copy['threshold'].astype(int).astype(str).str.pad(fillchar=\"0\", side='left', width=7)\n",
    "    components_copy['comid'] = components_copy['component'].astype(str).str.pad(fillchar=\"0\", side='left', width=7)\n",
    "    components_copy['aggid'] = components_copy['Agglomeration_ID'].astype(str).str.pad(fillchar=\"0\", side='left', width=7)\n",
    "\n",
    "    components_copy = components_copy[['aggnm', 'pop15', 'thrno', 'thrid', 'comid', 'aggid', 'gcc', 'Agglomeration_ID']]\n",
    "\n",
    "    biggest = components_copy.sort_values('pop15', ascending=False).groupby(['thrid', 'comid'], as_index=False).first()\n",
    "    biggest['biggest_rank'] = biggest.pop15.rank(ascending=False, method='dense')\n",
    "    n_comps = components_copy[components_copy['aggnm']!='road'].groupby(['thrid', 'comid'], as_index=False).agg({'pop15': ['count', 'sum']})\n",
    "    n_comps.columns = [''.join(x) for x in n_comps.columns]\n",
    "    \n",
    "    components_copy = components_copy.merge(biggest[['thrid', 'comid', 'aggnm', 'pop15', 'biggest_rank']].rename(columns={'aggnm': 'biggest_city', 'pop15': 'biggest_pop'}), \n",
    "                                            left_on=['thrid', 'comid'], \n",
    "                                            right_on=['thrid', 'comid'], \n",
    "                                            how='left').merge(n_comps, \n",
    "                                                              left_on=['thrid', 'comid'], \n",
    "                                                              right_on=['thrid', 'comid'], \n",
    "                                                              how='left').sort_values('pop15count', ascending=False)\n",
    "    \n",
    "    return components_copy"
   ]
  },
  {
   "cell_type": "code",
   "execution_count": 31,
   "metadata": {},
   "outputs": [],
   "source": [
    "components = clean_components(components)"
   ]
  },
  {
   "cell_type": "code",
   "execution_count": 32,
   "metadata": {},
   "outputs": [],
   "source": [
    "trends = components[['thrno', 'gcc']].groupby('thrno', as_index=False).first()\n",
    "trends['lag'] = trends.gcc.shift(1)\n",
    "trends['change'] =  trends.gcc - trends.lag\n",
    "changepoints = np.append([10], np.append(trends.nlargest(6, 'change').sort_values('thrno').thrno.to_numpy(), 1240))"
   ]
  },
  {
   "cell_type": "code",
   "execution_count": 35,
   "metadata": {},
   "outputs": [],
   "source": [
    "from colorcet import palette\n",
    "from matplotlib import colors\n",
    "pal = np.tile(palette['glasbey_light'], len(nodes) // len(palette['glasbey_light']))\n",
    "pal = colors.ListedColormap(pal)"
   ]
  },
  {
   "cell_type": "code",
   "execution_count": 37,
   "metadata": {},
   "outputs": [],
   "source": [
    "africa = gpd.read_file(gpd.datasets.get_path('naturalearth_lowres'))\n",
    "africa = africa[africa['continent']==\"Africa\"]\n",
    "africa = africa[africa['iso_a3']!= 'MDG']"
   ]
  },
  {
   "cell_type": "code",
   "execution_count": 48,
   "metadata": {},
   "outputs": [
    {
     "data": {
      "text/html": [
       "<div>\n",
       "<style scoped>\n",
       "    .dataframe tbody tr th:only-of-type {\n",
       "        vertical-align: middle;\n",
       "    }\n",
       "\n",
       "    .dataframe tbody tr th {\n",
       "        vertical-align: top;\n",
       "    }\n",
       "\n",
       "    .dataframe thead th {\n",
       "        text-align: right;\n",
       "    }\n",
       "</style>\n",
       "<table border=\"1\" class=\"dataframe\">\n",
       "  <thead>\n",
       "    <tr style=\"text-align: right;\">\n",
       "      <th></th>\n",
       "      <th>thrid</th>\n",
       "      <th>comid</th>\n",
       "      <th>pop15</th>\n",
       "    </tr>\n",
       "  </thead>\n",
       "  <tbody>\n",
       "    <tr>\n",
       "      <th>0</th>\n",
       "      <td>0000010</td>\n",
       "      <td>7361</td>\n",
       "      <td>460684735</td>\n",
       "    </tr>\n",
       "  </tbody>\n",
       "</table>\n",
       "</div>"
      ],
      "text/plain": [
       "     thrid  comid      pop15\n",
       "0  0000010   7361  460684735"
      ]
     },
     "execution_count": 48,
     "metadata": {},
     "output_type": "execute_result"
    }
   ],
   "source": [
    "temp_comps.groupby(['thrid', 'comid'], as_index=False).agg({'': 'count', 'pop15': 'sum'}).sort_values('pop15', ascending=False)"
   ]
  },
  {
   "cell_type": "code",
   "execution_count": 139,
   "metadata": {},
   "outputs": [],
   "source": [
    "def get_color(x):\n",
    "    # rank the components by count where last place is just the next number in the sequence\n",
    "    comp_pal = x.groupby(['thrid', 'comid'], as_index=False).agg({'Agglomeration_ID': 'count', 'pop15': 'sum'}).sort_values('pop15', ascending=False)\n",
    "    comp_pal['rank'] = comp_pal['Agglomeration_ID'].rank(ascending=False, method='min')\n",
    "\n",
    "    # assign the highest rank #7c7c7c, all the lowest rank #00cff9, the rest shuffle from np.random.choice(cc.palette['glasbey_light'], len(np.unique(region)))\n",
    "    comp_pal['color'] = np.where(comp_pal['rank']==1, '#7c7c7c', '#00cff9')\n",
    "    \n",
    "    # merge the colors back to the components\n",
    "    x = x.merge(comp_pal[['comid', 'color']], left_on='comid', right_on='comid', how='left')\n",
    "    return x"
   ]
  },
  {
   "cell_type": "code",
   "execution_count": null,
   "metadata": {},
   "outputs": [],
   "source": [
    "np.random.choice(cc.palette['glasbey_light'], len(np.unique(region)))\n",
    "\n",
    "crosswalk = {\n",
    "    'region': ['Central', 'East', 'North', 'South', 'West', 'crossing'],\n",
    "    'color': ['#a0e491', '#48ffef', '#ef72aa', '#953f1f', '#00cff9', '#7c7c7c']\n",
    "}"
   ]
  },
  {
   "cell_type": "code",
   "execution_count": 155,
   "metadata": {},
   "outputs": [
    {
     "name": "stdout",
     "output_type": "stream",
     "text": [
      "(7361, 13)\n",
      "(7361, 13)\n",
      "(7361, 13)\n",
      "(7361, 13)\n"
     ]
    },
    {
     "data": {
      "image/png": "[encoded data removed]",
      "text/plain": [
       "<Figure size 396x234 with 5 Axes>"
      ]
     },
     "metadata": {},
     "output_type": "display_data"
    }
   ],
   "source": [
    "size = [0.15, 0.35]\n",
    "\n",
    "selection = [80, 40, 20, 10]\n",
    "\n",
    "(5.5, 6.5 / 2)\n",
    "\n",
    "fig, ax = plt.subplots(figsize=(5.5, 6.5 / 2), facecolor='w')\n",
    "\n",
    "ax.plot(np.arange(0, 100), lengths, color='k')\n",
    "\n",
    "for i, j in zip(selection, [[0.15, 0.2], [0.3, 0.2], [0.45, 0.2], [0.6, 0.2], [0.75, 0.2]]):\n",
    "    \n",
    "    sub = plt.axes(j + size, facecolor='w')\n",
    "    \n",
    "    temp_comps = components[components['thrno']==i]\n",
    "    print(temp_comps.shape)\n",
    "    temp_comps = get_color(temp_comps)\n",
    "\n",
    "    g = temp_comps.gcc.iloc[0]\n",
    "\n",
    "    africa.plot(color='w', edgecolor='k', linewidth=0.5, alpha=0.5, ax=sub)\n",
    "\n",
    "    temp_nodes = gpd.GeoDataFrame(nodes, geometry=gpd.points_from_xy(nodes['x'], nodes['y'], crs='epsg:4326'))\n",
    "    temp_nodes = temp_nodes.merge(temp_comps, left_on='Agglomeration_ID', right_on='Agglomeration_ID')\n",
    "    temp_nodes['component'] = temp_nodes['biggest_rank']\n",
    "    \n",
    "    temp_marks = np.sqrt(temp_nodes['Pop2015'] / 10**6)\n",
    "    temp_nodes.sort_values('color').plot(color=temp_nodes['color'], markersize=0.5, alpha=0.5, ax=sub)\n",
    "    sub.set_title(f\"threshold: {i}\", color='k', weight='bold', size = 5)\n",
    "    # sub.set_title(f\"threshold: {i} | GCC: {temp_comps.gcc.iloc[0]}\", color='k', weight='bold', size = 5)\n",
    "    sub.set_axis_off()\n",
    "    \n",
    "\n",
    "ax.invert_xaxis()\n",
    "ax.set_ylim(0, 7.5 * 10**3)\n",
    "\n",
    "ax.set_facecolor('w')\n",
    "\n",
    "ax.spines[\"bottom\"].set_color(\"k\")\n",
    "ax.spines[\"left\"].set_color(\"k\")\n",
    "ax.spines[\"top\"].set_visible(False)\n",
    "ax.spines[\"right\"].set_visible(False)\n",
    "\n",
    "font = {'weight':'bold', 'alpha':1.0, 'size':8}\n",
    "\n",
    "ax.tick_params(axis='x', colors='k')\n",
    "ax.tick_params(axis='y', colors='k')\n",
    "\n",
    "mu = \"intensity \" + u\"\\u03BC\"\n",
    "\n",
    "ax.set_xlabel(f\"threshold ({mu})\", color=\"k\", fontdict=font)\n",
    "ax.set_ylabel(\"GCC (nodes)\", color=\"k\", fontdict=font)\n",
    "\n",
    "# fig.suptitle('Size of Giant Connected Component', color='w', size=20, weight='bold')\n",
    "fig.savefig('../viz/africapolis-gcc-risk-strip.png', facecolor=fig.get_facecolor(), dpi=300, bbox_inches='tight')"
   ]
  }
 ],
 "metadata": {
  "kernelspec": {
   "display_name": "locomizer",
   "language": "python",
   "name": "python3"
  },
  "language_info": {
   "codemirror_mode": {
    "name": "ipython",
    "version": 3
   },
   "file_extension": ".py",
   "mimetype": "text/x-python",
   "name": "python",
   "nbconvert_exporter": "python",
   "pygments_lexer": "ipython3",
   "version": "3.9.9"
  },
  "orig_nbformat": 4
 },
 "nbformat": 4,
 "nbformat_minor": 2
}
